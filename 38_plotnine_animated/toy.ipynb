{
 "cells": [
  {
   "cell_type": "code",
   "execution_count": 1,
   "id": "3a28e4fa",
   "metadata": {
    "ExecuteTime": {
     "end_time": "2023-01-22T22:19:14.271158Z",
     "start_time": "2023-01-22T22:19:12.340743Z"
    }
   },
   "outputs": [],
   "source": [
    "import pandas as pd\n",
    "import numpy as np\n",
    "from plotnine import *\n",
    "from plotnine.animation import PlotnineAnimation\n",
    "import matplotlib.pyplot as plt\n",
    "\n",
    "# for animation in the notebook\n",
    "# from matplotlib import rc\n",
    "# rc('animation', html='html5')"
   ]
  },
  {
   "cell_type": "code",
   "execution_count": 2,
   "id": "e1aa4309",
   "metadata": {
    "ExecuteTime": {
     "end_time": "2023-01-22T22:19:14.278545Z",
     "start_time": "2023-01-22T22:19:14.272634Z"
    }
   },
   "outputs": [],
   "source": [
    "%matplotlib inline"
   ]
  },
  {
   "cell_type": "code",
   "execution_count": 3,
   "id": "6e775da3",
   "metadata": {
    "ExecuteTime": {
     "end_time": "2023-01-22T22:19:14.281530Z",
     "start_time": "2023-01-22T22:19:14.279430Z"
    }
   },
   "outputs": [],
   "source": [
    "# Parameters used to control the spiral\n",
    "n = 100\n",
    "tightness = 1.3\n",
    "kmin = 1\n",
    "kmax = 25\n",
    "num_frames = 25\n",
    "theta = np.linspace(-np.pi, np.pi, n)"
   ]
  },
  {
   "cell_type": "code",
   "execution_count": 4,
   "id": "b7d840a4",
   "metadata": {
    "ExecuteTime": {
     "end_time": "2023-01-22T22:19:14.287019Z",
     "start_time": "2023-01-22T22:19:14.283463Z"
    }
   },
   "outputs": [],
   "source": [
    "def plot(k):\n",
    "    # For every plot we change the theta\n",
    "    _theta = theta*k\n",
    "\n",
    "    # Polar Equation of each spiral\n",
    "    r = tightness*_theta\n",
    "\n",
    "    df = pd.DataFrame({\n",
    "        'theta': _theta,\n",
    "        'r': r, \n",
    "        'x': r*np.sin(_theta),\n",
    "        'y': r*np.cos(_theta)\n",
    "    })\n",
    "\n",
    "    p = (ggplot(df)\n",
    "         + geom_path(aes('x', 'y', color='theta'), size=1)\n",
    "         + lims(\n",
    "             # All the plots have scales with the same limits\n",
    "             x=(-130, 130),\n",
    "             y=(-130, 130),\n",
    "             color=(-kmax*np.pi, kmax*np.pi)\n",
    "         )\n",
    "         + theme_void()\n",
    "         + theme(\n",
    "             aspect_ratio=1,\n",
    "             # Make room on the right for the legend\n",
    "             subplots_adjust={'right': 0.85}\n",
    "         )\n",
    "    )\n",
    "    return p"
   ]
  },
  {
   "cell_type": "code",
   "execution_count": 5,
   "id": "ec2645e2",
   "metadata": {
    "ExecuteTime": {
     "end_time": "2023-01-22T22:19:15.237240Z",
     "start_time": "2023-01-22T22:19:14.288859Z"
    }
   },
   "outputs": [
    {
     "data": {
      "text/plain": [
       "<plotnine.animation.PlotnineAnimation at 0x7fe91cb132e0>"
      ]
     },
     "execution_count": 5,
     "metadata": {},
     "output_type": "execute_result"
    }
   ],
   "source": [
    "# It is better to use a generator instead of a list\n",
    "plots = (plot(k) for k in np.linspace(kmin, kmax, num_frames))\n",
    "ani = PlotnineAnimation(plots, interval=100, repeat_delay=500)\n",
    "ani\n",
    "# ani.save('/tmp/animation.mp4')\n",
    "# print(ani)"
   ]
  },
  {
   "cell_type": "code",
   "execution_count": 6,
   "id": "be879519",
   "metadata": {
    "ExecuteTime": {
     "end_time": "2023-01-22T22:19:15.240918Z",
     "start_time": "2023-01-22T22:19:15.238772Z"
    }
   },
   "outputs": [
    {
     "name": "stdout",
     "output_type": "stream",
     "text": [
      "<class 'plotnine.animation.PlotnineAnimation'>\n"
     ]
    }
   ],
   "source": [
    "print(type(ani))"
   ]
  },
  {
   "cell_type": "code",
   "execution_count": 7,
   "id": "4213e4c0",
   "metadata": {
    "ExecuteTime": {
     "end_time": "2023-01-22T22:19:21.049163Z",
     "start_time": "2023-01-22T22:19:17.323622Z"
    }
   },
   "outputs": [],
   "source": [
    "ani.save('toy.mp4')"
   ]
  },
  {
   "cell_type": "code",
   "execution_count": null,
   "id": "b2aa2383",
   "metadata": {},
   "outputs": [],
   "source": []
  }
 ],
 "metadata": {
  "kernelspec": {
   "display_name": "Python 3 (ipykernel)",
   "language": "python",
   "name": "python3"
  },
  "language_info": {
   "codemirror_mode": {
    "name": "ipython",
    "version": 3
   },
   "file_extension": ".py",
   "mimetype": "text/x-python",
   "name": "python",
   "nbconvert_exporter": "python",
   "pygments_lexer": "ipython3",
   "version": "3.8.15"
  },
  "toc": {
   "base_numbering": 1,
   "nav_menu": {},
   "number_sections": true,
   "sideBar": true,
   "skip_h1_title": false,
   "title_cell": "Table of Contents",
   "title_sidebar": "Contents",
   "toc_cell": false,
   "toc_position": {},
   "toc_section_display": true,
   "toc_window_display": false
  }
 },
 "nbformat": 4,
 "nbformat_minor": 5
}
